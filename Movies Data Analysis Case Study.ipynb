{
 "cells": [
  {
   "cell_type": "markdown",
   "metadata": {},
   "source": [
    "# Project: Movies Dataset\n",
    "\n",
    "## Files to review:\n",
    "- You can review the file called **```Assessing Data```** where I analyzed the dataset we are going to work with.\n",
    "- I also did some data cleansing in the file called **```Data Cleansing```**\n",
    "- In this notebook, we're going to answer some questions using visuals and descriptive statistics\n",
    "\n",
    "## Questions to Answer:\n",
    "In this part I will write any question I want to answer, so I don't forget.\n",
    "- [x] Highest revenue per year, and from which movie\n",
    "- [x] What's the genre that generated more revenue and which one is the genre that has the best votes.\n",
    "- [x] Average Revenue per Genre from 1960-2015\n",
    "- [x] Correlations between Revenue and Budget\n",
    "- [x] Correlations between Budget and Popularity\n",
    "\n",
    "## Table of Contents\n",
    "<ul>\n",
    "<li><a href=\"#eda\"><b>Exploratory Data Analysis</b></a></li>\n",
    "<li><a href=\"#f1\"><b>Function for plotting</b></a></li>\n",
    "<li><a href=\"#f2\"><b>Function creating top 10</b></a></li>\n",
    "<li><a href=\"#single\"><b>Single Variable Analysis</b></a></li>\n",
    "<ul>    \n",
    "<dd><li><a href=\"#qs1\">Movies created per year</a></li></dd>\n",
    "<li><a href=\"#qs2\">Top 10 production companies</a></li>\n",
    "<li><a href=\"#qs3\">Top 10 Actors</a></li>\n",
    "</ul>\n",
    "<li><a href=\"#multiple\"><b>Multiple Variable Exploration</b></a></li>\n",
    "<ul>  \n",
    "<li><a href=\"#qm1\">Highest Revenue Per Year and from which movie</a></li>\n",
    "<li><a href=\"#qm2\">Top 10 Movies that generated most revenue</a></li>\n",
    "<li><a href=\"#qm3\">Revenue in Millions from 1960-2015</a></li>\n",
    "<li><a href=\"#qm4\">Movie that made the most money</a></li> \n",
    "<li><a href=\"#qm5\">Movie that made the less money</a></li>\n",
    "<li><a href=\"#qm6\">What's the genre that has more movies and which one is the genre that has the best votes? </a></li>\n",
    "</ul>\n",
    "<li><a href=\"#conclusions\"><b>Conclusions</b></a></li>\n"
   ]
  },
  {
   "cell_type": "markdown",
   "metadata": {},
   "source": [
    "<a id='intro'></a>\n",
    "## Introduction\n",
    "\n",
    "> I think movies is a topic we all like and feel familiar with and that's why I chose to work with this dataset. In the following sections **I'll be analyzing each of the questions stated above to understand more about this dataset and about the movie industry.**"
   ]
  },
  {
   "cell_type": "code",
   "execution_count": 1,
   "metadata": {},
   "outputs": [],
   "source": [
    "# Use this cell to set up import statements for all of the packages that you\n",
    "#   plan to use.\n",
    "\n",
    "# Remember to include a 'magic word' so that your visualizations are plotted\n",
    "#   inline with the notebook. See this page for more:\n",
    "#   http://ipython.readthedocs.io/en/stable/interactive/magics.html\n",
    "\n",
    "import numpy as np\n",
    "import pandas as pd\n",
    "import matplotlib.pyplot as plt\n",
    "%matplotlib inline\n",
    "import seaborn as sns"
   ]
  },
  {
   "cell_type": "markdown",
   "metadata": {},
   "source": [
    "<a id='eda'></a>\n",
    "## Exploratory Data Analysis\n",
    "\n",
    "\n",
    "> With the goal of addressing the research questions I used descriptive statistics to find insights and relationships between variables. "
   ]
  },
  {
   "cell_type": "markdown",
   "metadata": {},
   "source": [
    "<a id='f1'></a>\n",
    "> ### Function for plotting\n",
    "I'm going to create a function that I'm going to call everytime I want to create a plot."
   ]
  },
  {
   "cell_type": "code",
   "execution_count": 2,
   "metadata": {},
   "outputs": [],
   "source": [
    "def plotTitle(title, xlabel, ylabel):\n",
    "    \"\"\"\n",
    "    This is a function that I will call every time I want to create a plot \n",
    "    \"\"\"\n",
    "    plt.title(title, fontsize = 22)\n",
    "    plt.xlabel(xlabel, labelpad = 15, fontsize = 18)\n",
    "    plt.ylabel(ylabel, labelpad = 15, fontsize = 18) "
   ]
  },
  {
   "cell_type": "markdown",
   "metadata": {},
   "source": [
    "<a id='f2'></a>\n",
    "> ### Function creating the top 10 of any column\n",
    "I'm going to create a function that I'm going to call everytime I want to create a top 10"
   ]
  },
  {
   "cell_type": "code",
   "execution_count": 3,
   "metadata": {},
   "outputs": [],
   "source": [
    "def top10(column):\n",
    "    \"\"\"\n",
    "    This function will help me to create the top 10 of any column\n",
    "    \"\"\"\n",
    "    top10 = df[column].value_counts()\n",
    "    top10 = top10.nlargest(10).sort_values(ascending = True)\n",
    "    return top10.plot(kind = 'barh', figsize =(12,8))"
   ]
  },
  {
   "cell_type": "code",
   "execution_count": 4,
   "metadata": {},
   "outputs": [],
   "source": [
    "def group_by(data, column1, column2):\n",
    "    variable = df.groupby(column1)[column2].sum().sort_values(ascending = True)\n",
    "    variable = variable.nlargest(10).sort_values(ascending = True)\n",
    "    return variable.plot(kind = 'barh',figsize =(12,10), legend = True)"
   ]
  },
  {
   "cell_type": "markdown",
   "metadata": {},
   "source": [
    "<a id='q1'></a>\n",
    "> ### Highest revenue per year, and from which movie\n",
    "- The movie that made **1907.005842** Million USD Dollar in revenue is **Jaws**"
   ]
  },
  {
   "cell_type": "code",
   "execution_count": null,
   "metadata": {
    "scrolled": false
   },
   "outputs": [],
   "source": [
    "# Use this, and more code cells, to explore your data. Don't forget to add\n",
    "#   Markdown cells to document your observations and findings.\n",
    "df = pd.read_csv('clean_dataset.csv')\n",
    "df.head(2)"
   ]
  },
  {
   "cell_type": "code",
   "execution_count": null,
   "metadata": {},
   "outputs": [],
   "source": [
    "df.drop_duplicates(subset = 'id' , inplace = True) "
   ]
  },
  {
   "cell_type": "code",
   "execution_count": null,
   "metadata": {},
   "outputs": [],
   "source": [
    "df[df.budget_adj == 0]"
   ]
  },
  {
   "cell_type": "code",
   "execution_count": null,
   "metadata": {},
   "outputs": [],
   "source": [
    "sum(df.id.duplicated())"
   ]
  },
  {
   "cell_type": "markdown",
   "metadata": {},
   "source": [
    "<a id='single'></a>\n",
    "## Single Variable Analysis"
   ]
  },
  {
   "cell_type": "markdown",
   "metadata": {},
   "source": [
    "<a id='qs1'></a>\n",
    "> ### Movies created per year"
   ]
  },
  {
   "cell_type": "code",
   "execution_count": null,
   "metadata": {
    "scrolled": true
   },
   "outputs": [],
   "source": [
    "#just checking what are the descriptive statistics of the release_year column\n",
    "df.release_year.describe()"
   ]
  },
  {
   "cell_type": "code",
   "execution_count": null,
   "metadata": {
    "scrolled": true
   },
   "outputs": [],
   "source": [
    "#creating th plot of the column\n",
    "df['release_year'].value_counts().plot(kind = 'barh', figsize =(18,20))\n",
    "plotTitle('Genres', 'Movies created', 'Years');"
   ]
  },
  {
   "cell_type": "markdown",
   "metadata": {},
   "source": [
    "In our previous graph, we can appreciate that **the amount of movies created were incrementing throghout the years**"
   ]
  },
  {
   "cell_type": "markdown",
   "metadata": {},
   "source": [
    "<a id='qs2'></a>\n",
    "> ### Top 10 Production Companies"
   ]
  },
  {
   "cell_type": "code",
   "execution_count": null,
   "metadata": {
    "scrolled": true
   },
   "outputs": [],
   "source": [
    "#just checking what are the descriptive statistics of the production_companies column\n",
    "df.production_companies.describe()"
   ]
  },
  {
   "cell_type": "code",
   "execution_count": null,
   "metadata": {
    "scrolled": true
   },
   "outputs": [],
   "source": [
    "#creating th plot of the column\n",
    "top10('production_companies')\n",
    "plotTitle('Top 10 Production Companies', 'Number of movies created', 'Companies');"
   ]
  },
  {
   "cell_type": "markdown",
   "metadata": {},
   "source": [
    "<a id='qs3'></a>\n",
    "> ### Top 10 Actors"
   ]
  },
  {
   "cell_type": "markdown",
   "metadata": {},
   "source": [
    "It looks that **Universal Pictures** is the company that has created the most movies in the dataset"
   ]
  },
  {
   "cell_type": "code",
   "execution_count": null,
   "metadata": {
    "scrolled": true
   },
   "outputs": [],
   "source": [
    "top10('cast')\n",
    "plotTitle('Top 10 Actors', 'Number of movies', 'Actors');"
   ]
  },
  {
   "cell_type": "markdown",
   "metadata": {},
   "source": [
    "It looks that **Nicolas Cage** has appeared in a lot of movies!"
   ]
  },
  {
   "cell_type": "markdown",
   "metadata": {},
   "source": [
    "<a id='multiple'></a>\n",
    "## Multiple Variable Exploration"
   ]
  },
  {
   "cell_type": "markdown",
   "metadata": {},
   "source": [
    "#### Creation of two new columns\n",
    "\n",
    "Before I dive deeper into the analysis, I created two new columns and changed their datatypes to integers:\n",
    "- ```revenue_in_millions```: The reason for this is so that the reader can read better the numbers in the graphs.\n",
    "- ```budget_in_millions```: The reason for this is so that the reader can read better the numbers in the graphs.\n",
    "\n",
    "I also eliminated the negative ```revenue_in_USD_2010``` values, because there were so little negative values, that it was biasing my visualizations."
   ]
  },
  {
   "cell_type": "code",
   "execution_count": null,
   "metadata": {},
   "outputs": [],
   "source": [
    "df[\"revenue_adj\"] = df[\"revenue_adj\"].astype(int)"
   ]
  },
  {
   "cell_type": "code",
   "execution_count": null,
   "metadata": {},
   "outputs": [],
   "source": [
    "df[\"budget_adj\"] = df[\"budget_adj\"].astype(int)"
   ]
  },
  {
   "cell_type": "code",
   "execution_count": null,
   "metadata": {},
   "outputs": [],
   "source": [
    "df = df.rename(columns = {'revenue_adj': 'revenue_in_USD_2010', 'budget_adj': 'budget_in_USD_2010'}, inplace = False)"
   ]
  },
  {
   "cell_type": "code",
   "execution_count": null,
   "metadata": {},
   "outputs": [],
   "source": [
    "df['revenue_in_millions'] = df['revenue_in_USD_2010']/1000000"
   ]
  },
  {
   "cell_type": "code",
   "execution_count": null,
   "metadata": {},
   "outputs": [],
   "source": [
    "df['budget_in_millions'] = df['budget_in_USD_2010']/1000000"
   ]
  },
  {
   "cell_type": "code",
   "execution_count": null,
   "metadata": {},
   "outputs": [],
   "source": [
    "df = df[(df['revenue_in_millions'] >= 0)]"
   ]
  },
  {
   "cell_type": "code",
   "execution_count": null,
   "metadata": {},
   "outputs": [],
   "source": [
    "df.head(2)"
   ]
  },
  {
   "cell_type": "markdown",
   "metadata": {},
   "source": [
    "#### I created a temporary dataframe with the values of:\n",
    "- ```release_year```\n",
    "- ```revenue_in_millions```\n",
    "- ```original_title```\n",
    "\n",
    "And then I just sorted the values from ```release_year``` and ```revenue_in_millions```. Once that I did this, I created a **line graph** to evaluate the revenue of the **best movies** from **1960-2015**."
   ]
  },
  {
   "cell_type": "code",
   "execution_count": null,
   "metadata": {},
   "outputs": [],
   "source": [
    "temp_df = df[['release_year', 'revenue_in_millions', 'original_title']].sort_values(['release_year', 'revenue_in_millions'], ascending=False)"
   ]
  },
  {
   "cell_type": "markdown",
   "metadata": {},
   "source": [
    "<a id='qm1'></a>\n",
    "> ### Highest Revenue Per Year and from which movie"
   ]
  },
  {
   "cell_type": "code",
   "execution_count": null,
   "metadata": {
    "scrolled": true
   },
   "outputs": [],
   "source": [
    "pd.DataFrame(temp_df.groupby(['release_year']).agg({'revenue_in_millions':[max], 'original_title':['first']}))"
   ]
  },
  {
   "cell_type": "markdown",
   "metadata": {},
   "source": [
    "<a id='qm2'></a>\n",
    "> ### Top 10 Movies that generated most revenue"
   ]
  },
  {
   "cell_type": "code",
   "execution_count": null,
   "metadata": {
    "scrolled": true
   },
   "outputs": [],
   "source": [
    "revenue_per_movie = df.groupby('original_title')[\"revenue_in_millions\"].sum().sort_values(ascending = True)\n",
    "revenue_per_movie = revenue_per_movie.nlargest(10).sort_values(ascending = True)\n",
    "revenue_per_movie.plot(kind = 'barh',figsize =(12,10), legend = True)\n",
    "plotTitle(\"Top 10 Movies that generated most revenue\",\"Revenue in Millions USD\", \"Production Company\")"
   ]
  },
  {
   "cell_type": "markdown",
   "metadata": {},
   "source": [
    "<a id='qm3'></a>\n",
    "> ### Revenue in Millions from 1960-2015"
   ]
  },
  {
   "cell_type": "code",
   "execution_count": null,
   "metadata": {
    "scrolled": false
   },
   "outputs": [],
   "source": [
    "sns.set(font_scale=1.4)\n",
    "temp_df.set_index('release_year')['revenue_in_millions'].plot(figsize=(20, 10), linewidth=2.5, color='blue', xlim = (1960, 2016))\n",
    "#using the plotTitle Function that I created\n",
    "plotTitle(\"Best movies revenues over years\",\"Years\", \"Revenue in Millions USD (2010)\")"
   ]
  },
  {
   "cell_type": "markdown",
   "metadata": {},
   "source": [
    "<a id='qm4'></a>\n",
    "> ### Movie that made the most money\n",
    "I also wanted to review which movie has made most of the money in my dataset"
   ]
  },
  {
   "cell_type": "code",
   "execution_count": null,
   "metadata": {
    "scrolled": true
   },
   "outputs": [],
   "source": [
    "df.loc[df['revenue_in_millions'].idxmax()]"
   ]
  },
  {
   "cell_type": "markdown",
   "metadata": {},
   "source": [
    "<a id='qm5'></a>\n",
    "> ### Movie that made the less money"
   ]
  },
  {
   "cell_type": "code",
   "execution_count": null,
   "metadata": {},
   "outputs": [],
   "source": [
    "df.loc[df['revenue_in_millions'].idxmin()]"
   ]
  },
  {
   "cell_type": "markdown",
   "metadata": {},
   "source": [
    "<a id='qm6'></a>\n",
    "> ### What's the genre that has more movies and which one is the genre that has the best votes?\n",
    "- To do this I created a groupby of a new column named ```value``` which has all the genres from each movie and I grouped it with the variable ```revenue_in_millions```"
   ]
  },
  {
   "cell_type": "code",
   "execution_count": null,
   "metadata": {},
   "outputs": [],
   "source": [
    "# Continue to explore the data to address your additional research\n",
    "#   questions. Add more headers as needed if you have more questions to\n",
    "#   investigate.\n",
    "genres_revenue = df.groupby('genres')[\"revenue_in_millions\"].sum().sort_values(ascending = True)"
   ]
  },
  {
   "cell_type": "code",
   "execution_count": null,
   "metadata": {
    "scrolled": true
   },
   "outputs": [],
   "source": [
    "#Plotting the revenue for each genre\n",
    "ax = genres_revenue.plot(kind = 'barh',figsize =(10,8), legend = True)\n",
    "#using the plotTitle Function that I created\n",
    "plotTitle(\"Revenue Per Genre\",\"Genres\", \"Revenue in Millions USD (2010)\")"
   ]
  },
  {
   "cell_type": "markdown",
   "metadata": {},
   "source": [
    "### Knowing which are the most popular genres\n",
    "- I'm going to review which genres do better over the years, stayinng with just the top 5 genres."
   ]
  },
  {
   "cell_type": "code",
   "execution_count": null,
   "metadata": {
    "scrolled": true
   },
   "outputs": [],
   "source": [
    "genres_pop = df.groupby('genres')[\"popularity\"].sum().sort_values(ascending = False)\n",
    "genres_pop"
   ]
  },
  {
   "cell_type": "markdown",
   "metadata": {},
   "source": [
    "To **better understand** the data, I drop the genres that I don't want to track, I just want to see the top 8 genres."
   ]
  },
  {
   "cell_type": "markdown",
   "metadata": {},
   "source": [
    "> ### Function for dropping columsn"
   ]
  },
  {
   "cell_type": "code",
   "execution_count": null,
   "metadata": {
    "scrolled": true
   },
   "outputs": [],
   "source": [
    "test_df = pd.read_csv('clean_dataset - Copy.csv')\n",
    "def dropping():\n",
    "    \"\"\"\n",
    "    This function will help me eliminate the genres that I don't want to analyze.\n",
    "    \"\"\"\n",
    "    genres = ['Horror', 'Animation', 'Mystery', 'Music', 'War', 'Western', 'Documentary', 'TV Movie', 'Foreign', 'Fantasy', 'Family', 'Crime']\n",
    "    for genre in genres:\n",
    "        genre_over_time = test_df.drop(test_df.index[test_df['genres'] == genre], inplace = True)\n",
    "\n",
    "# calling the function dropping\n",
    "dropping()"
   ]
  },
  {
   "cell_type": "code",
   "execution_count": null,
   "metadata": {},
   "outputs": [],
   "source": [
    "genre_over_time = test_df.groupby(['release_year','genres'])['popularity'].mean()\n",
    "genre_over_time"
   ]
  },
  {
   "cell_type": "code",
   "execution_count": null,
   "metadata": {},
   "outputs": [],
   "source": [
    "genre_over_time = genre_over_time.unstack()\n",
    "genre_over_time.head(2)"
   ]
  },
  {
   "cell_type": "code",
   "execution_count": null,
   "metadata": {
    "scrolled": false
   },
   "outputs": [],
   "source": [
    "genre_over_time.plot(figsize= (15,8), linewidth=3, xlim = (1960,2015), ylim = (0,8))\n",
    "plotTitle(\"Popularity of genres change over years\",\"Years (1960-2015)\", \"Average popularity\")"
   ]
  },
  {
   "cell_type": "markdown",
   "metadata": {},
   "source": [
    "<a id='q3'></a>\n",
    "### Question 3: Revenue per Company\n",
    "\n",
    "> Revenue per Genre, in order to do this I created a groupby function between ```value``` and ```revenue_in_millions```"
   ]
  },
  {
   "cell_type": "markdown",
   "metadata": {},
   "source": [
    "### Top 10 Companies with most revenue"
   ]
  },
  {
   "cell_type": "code",
   "execution_count": null,
   "metadata": {
    "scrolled": true
   },
   "outputs": [],
   "source": [
    "revenue_per_comapnie = df.groupby('production_companies')[\"revenue_in_millions\"].sum().sort_values(ascending = True)\n",
    "revenue_per_comapnie = revenue_per_comapnie.nlargest(10).sort_values(ascending = True)\n",
    "revenue_per_comapnie.plot(kind = 'barh',figsize =(12,10), legend = True)\n",
    "plotTitle(\"Top 10 Companies with most revenue\",\"Revenue in Millions USD\", \"Production Company\")"
   ]
  },
  {
   "cell_type": "markdown",
   "metadata": {},
   "source": [
    "### Top 10 Companies with less revenue"
   ]
  },
  {
   "cell_type": "code",
   "execution_count": null,
   "metadata": {},
   "outputs": [],
   "source": [
    "revenue_per_comapnie = df.groupby('production_companies')[\"revenue_in_millions\"].sum().sort_values(ascending = True)\n",
    "revenue_per_comapnie = revenue_per_comapnie.nsmallest(10).sort_values(ascending = True)\n",
    "revenue_per_comapnie.plot(kind = 'barh',figsize =(12,10), legend = True)\n",
    "plotTitle(\"Top 10 Companies with less revenue\",\"Revenue in Millions USD\", \"Production Company\")"
   ]
  },
  {
   "cell_type": "markdown",
   "metadata": {},
   "source": [
    "<a id='q3'></a>\n",
    "### Question 3: Revenues per actor\n",
    "\n",
    "> Revenue per Genre, in order to do this I created a groupby function between ```value``` and ```revenue_in_millions```"
   ]
  },
  {
   "cell_type": "markdown",
   "metadata": {},
   "source": [
    "### Top 10 Best Paid Actors"
   ]
  },
  {
   "cell_type": "code",
   "execution_count": null,
   "metadata": {
    "scrolled": true
   },
   "outputs": [],
   "source": [
    "revenue_per_actor = df.groupby('cast')[\"revenue_in_millions\"].sum().sort_values(ascending = True)\n",
    "revenue_per_actor = revenue_per_actor.nlargest(10).sort_values(ascending = True)\n",
    "revenue_per_actor.plot(kind = 'barh',figsize =(12,10), legend = True)\n",
    "plotTitle(\"Top 10 Best Paid Actors\",\"Revenue in Millions USD\", \"Actor\")"
   ]
  },
  {
   "cell_type": "markdown",
   "metadata": {},
   "source": [
    "### Top 10 Worst Paid Actors"
   ]
  },
  {
   "cell_type": "code",
   "execution_count": null,
   "metadata": {},
   "outputs": [],
   "source": [
    "revenue_per_actor = df.groupby('cast')[\"revenue_in_millions\"].sum().sort_values(ascending = True)\n",
    "revenue_per_actor = revenue_per_actor.nsmallest(10).sort_values(ascending = True)\n",
    "revenue_per_actor.plot(kind = 'barh',figsize =(12,10), legend = True)\n",
    "plotTitle(\"Top 10 Worst Paid Actors\",\"Revenue in Millions USD\", \"Actor\")"
   ]
  },
  {
   "cell_type": "markdown",
   "metadata": {},
   "source": [
    "<a id='q3'></a>\n",
    "### Question 3: Average Revenue per Genre from 1960-2018\n",
    "\n",
    "> Revenue per Genre, in order to do this I created a groupby function between ```value``` and ```revenue_in_millions```"
   ]
  },
  {
   "cell_type": "code",
   "execution_count": null,
   "metadata": {},
   "outputs": [],
   "source": [
    "genres_avg_revenue = df.groupby('genres')[\"revenue_in_millions\"].mean().sort_values(ascending = True)"
   ]
  },
  {
   "cell_type": "code",
   "execution_count": null,
   "metadata": {
    "scrolled": false
   },
   "outputs": [],
   "source": [
    "ax = genres_avg_revenue.plot(kind = 'barh',figsize =(10,10), legend = True)\n",
    "plotTitle(\"Revenue Per Genre\",\"Revenue in Millions USD\", \"Genres\")"
   ]
  },
  {
   "cell_type": "markdown",
   "metadata": {},
   "source": [
    "<a id='q4'></a>\n",
    "### Question 4: Correlations between revenue and budget\n",
    "\n",
    "- To create this correlation, I first filter where all the values from ```revenue_in_millions``` are positive, because the negative values bias the visualization. "
   ]
  },
  {
   "cell_type": "code",
   "execution_count": null,
   "metadata": {},
   "outputs": [],
   "source": [
    "correlation = df[(df['revenue_in_millions'] >= 0)]\n",
    "correlation.revenue_in_millions"
   ]
  },
  {
   "cell_type": "code",
   "execution_count": null,
   "metadata": {
    "scrolled": false
   },
   "outputs": [],
   "source": [
    "df.plot(x='budget_in_millions', y='revenue_in_millions', kind = 'scatter', figsize = (12,10), ylim = (0,2000), xlim = (0,300))\n",
    "plotTitle(\"Correlation between a movie's Budget and its revenue\",\"Budget (in Millions) to create a Movie\", \"Revenue in Millions\")"
   ]
  },
  {
   "cell_type": "markdown",
   "metadata": {},
   "source": [
    "### Correlation between a Movie's Budget and its Popularity\n",
    "\n",
    "- We can see that there is a positive relationship between this 2 variables. "
   ]
  },
  {
   "cell_type": "code",
   "execution_count": null,
   "metadata": {},
   "outputs": [],
   "source": [
    "df.plot(x='budget_in_millions', y='popularity', kind = 'scatter', figsize = (12,10), ylim = (0,10), xlim = (0,300))\n",
    "plotTitle(\"Correlation between a movie's Budget and its popularity\" ,\"Budget (in Millions) to create a Movie\", \"Popularity\")"
   ]
  },
  {
   "cell_type": "markdown",
   "metadata": {},
   "source": [
    "<a id='conclusions'></a>\n",
    "## Conclusions\n",
    "\n",
    "> - As I analyzed this dataset, I found out that the better the budget, **the better** the chances for the movie to be more popular. I think is also important to get to know how correlations works.\n",
    "- I also found out that **Action**, **Adventure**, **Drama**, **Commedy** and **Thriller** are the genres that have generated the most revenue from 1965 to 2015. \n",
    "- Overall I had a lot of fun analyzing this dataset, and if the reader might have any suggestions on this work, please let me know."
   ]
  }
 ],
 "metadata": {
  "kernelspec": {
   "display_name": "Python 3",
   "language": "python",
   "name": "python3"
  },
  "language_info": {
   "codemirror_mode": {
    "name": "ipython",
    "version": 3
   },
   "file_extension": ".py",
   "mimetype": "text/x-python",
   "name": "python",
   "nbconvert_exporter": "python",
   "pygments_lexer": "ipython3",
   "version": "3.8.3"
  }
 },
 "nbformat": 4,
 "nbformat_minor": 2
}
